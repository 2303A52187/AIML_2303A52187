{
  "cells": [
    {
      "cell_type": "markdown",
      "metadata": {
        "id": "view-in-github",
        "colab_type": "text"
      },
      "source": [
        "<a href=\"https://colab.research.google.com/github/2303A52187/AIML_2303A52187/blob/main/AIML_LAB_EXAM.ipynb\" target=\"_parent\"><img src=\"https://colab.research.google.com/assets/colab-badge.svg\" alt=\"Open In Colab\"/></a>"
      ]
    },
    {
      "cell_type": "code",
      "source": [
        "import kagglehub\n",
        "\n",
        "# Download latest version\n",
        "path = kagglehub.dataset_download(\"zeeshier/weather-forecast-dataset\")\n",
        "\n",
        "print(\"Path to dataset files:\", path)"
      ],
      "metadata": {
        "id": "vaWgnTlKv9xy",
        "outputId": "db577f6c-9524-411d-db23-e9807ac252f8",
        "colab": {
          "base_uri": "https://localhost:8080/"
        }
      },
      "execution_count": null,
      "outputs": [
        {
          "output_type": "stream",
          "name": "stdout",
          "text": [
            "Path to dataset files: /root/.cache/kagglehub/datasets/zeeshier/weather-forecast-dataset/versions/1\n"
          ]
        }
      ]
    },
    {
      "cell_type": "code",
      "source": [
        "import kagglehub  # Make sure to install kagglehub first\n",
        "import pandas as pd\n",
        "from sklearn.model_selection import train_test_split\n",
        "from sklearn.preprocessing import StandardScaler\n",
        "from sklearn.svm import SVC\n",
        "from sklearn.metrics import classification_report, accuracy_score, confusion_matrix\n",
        "import seaborn as sns\n",
        "import matplotlib.pyplot as plt\n",
        "import os # import the os module\n",
        "\n",
        "# Download the dataset using kagglehub\n",
        "path = kagglehub.dataset_download(\"zeeshier/weather-forecast-dataset\")\n",
        "print(\"Path to dataset files:\", path)\n",
        "\n",
        "# Find the CSV file within the downloaded directory\n",
        "for filename in os.listdir(path):\n",
        "    if filename.endswith(\".csv\"):\n",
        "         csv_file_path = os.path.join(path, filename)\n",
        "         break\n",
        "    else:\n",
        "         raise FileNotFoundError(\"No CSV file found in the downloaded dataset directory.\")\n",
        "\n",
        "                        # Load the dataset\n",
        "         df = pd.read_csv(csv_file_path)  # Use the found CSV file path\n",
        "\n",
        "                        # Inspect the data\n",
        "         print(df.head())\n",
        "         print(df.info())\n",
        "         print(df.describe())\n",
        "\n",
        "                        # Check for missing values\n",
        "         print(df.isnull().sum())\n",
        "\n",
        "                        # Handle missing values (for simplicity, drop rows with missing values)\n",
        "         df = df.dropna()\n",
        "\n",
        "                        # Convert categorical columns to numerical (if any, like 'Rain')\n",
        "         df['Rain'] = df['Rain'].map({'Yes': 1, 'No': 0})\n",
        "\n",
        "                        # Feature selection\n",
        "         X = df.drop(columns=['Rain'])  # Features\n",
        "         y = df['Rain']  # Target variable\n",
        "\n",
        "                        # Split data into training and testing sets\n",
        "         X_train, X_test, y_train, y_test = train_test_split(X, y, test_size=0.3, random_state=42)\n",
        "\n",
        "                        # Standardize the features (important for SVM)\n",
        "         scaler = StandardScaler()\n",
        "         X_train_scaled = scaler.fit_transform(X_train)\n",
        "         X_test_scaled = scaler.transform(X_test)\n",
        "\n",
        "                        # Initialize the SVM model\n",
        "         svm_model = SVC(kernel='linear')  # You can also try 'rbf', 'poly', etc.\n",
        "\n",
        "                        # Train the SVM model\n",
        "         svm_model.fit(X_train_scaled, y_train)\n",
        "\n",
        "                        # Make predictions\n",
        "         y_pred_svm = svm_model.predict(X_test_scaled)\n",
        "\n",
        "                        # Evaluate the SVM model\n",
        "         print(\"\\nSVM Model Evaluation:\")\n",
        "         print(classification_report(y_test, y_pred_svm))\n",
        "         print(\"Accuracy:\", accuracy_score(y_test, y_pred_svm))\n",
        "\n",
        "                        # Confusion Matrix (Optional)\n",
        "         conf_matrix = confusion_matrix(y_test, y_pred_svm)\n",
        "         plt.figure(figsize=(8, 6))\n",
        "         sns.heatmap(conf_matrix, annot=True, fmt='d', cmap=\"Blues\", xticklabels=[\"No Rain\", \"Rain\"], yticklabels=[\"No Rain\", \"Rain\"])\n",
        "         plt.title(\"Confusion Matrix - SVM\")\n",
        "         plt.xlabel(\"Predicted\")\n",
        "         plt.ylabel(\"Actual\")\n",
        "         plt.show()"
      ],
      "metadata": {
        "id": "6zrWtEF00dqD",
        "outputId": "56fd9bcc-893c-4e5e-c5ef-572d7b2a9fba",
        "colab": {
          "base_uri": "https://localhost:8080/"
        }
      },
      "execution_count": null,
      "outputs": [
        {
          "output_type": "stream",
          "name": "stdout",
          "text": [
            "Path to dataset files: /root/.cache/kagglehub/datasets/zeeshier/weather-forecast-dataset/versions/1\n"
          ]
        }
      ]
    },
    {
      "cell_type": "code",
      "source": [
        "# Import libraries\n",
        "import pandas as pd\n",
        "from sklearn.model_selection import train_test_split\n",
        "from sklearn.preprocessing import LabelEncoder, StandardScaler\n",
        "from sklearn.svm import SVC\n",
        "from sklearn.metrics import accuracy_score, confusion_matrix\n",
        "import os\n",
        "import kagglehub # Make sure this is imported if not already\n",
        "\n",
        "print(os.getcwd())\n",
        "\n",
        "# Ensure the dataset is downloaded\n",
        "path = kagglehub.dataset_download(\"zeeshier/weather-forecast-dataset\")\n",
        "\n",
        "# Load the dataset\n",
        "# Assuming 'weather_forecast_data.csv' is inside the downloaded folder\n",
        "data = pd.read_csv(os.path.join(path, 'weather_forecast_data.csv'))\n",
        "# If the file has a different name, update it here\n",
        "\n",
        "# Encode target variable\n",
        "data['Rain'] = LabelEncoder().fit_transform(data['Rain'])  # 'rain' -> 1, 'no rain' -> 0\n",
        "\n",
        "# Split data into features and target\n",
        "X = data.drop('Rain', axis=1)\n",
        "y = data['Rain']\n",
        "\n",
        "# Train-test split\n",
        "X_train, X_test, y_train, y_test = train_test_split(X, y, test_size=0.3, random_state=42, stratify=y)\n",
        "\n",
        "# Function to train and evaluate SVM\n",
        "def train_and_evaluate_svm(kernel, X_train, X_test, y_train, y_test):\n",
        "    svm = SVC(kernel=kernel, random_state=42)\n",
        "    svm.fit(X_train, y_train)\n",
        "    y_pred = svm.predict(X_test)\n",
        "    accuracy = accuracy_score(y_test, y_pred)\n",
        "    conf_matrix = confusion_matrix(y_test, y_pred)\n",
        "    return accuracy, conf_matrix\n",
        "\n",
        "                        # Initialize StandardScaler and scale the data\n",
        "    scaler = StandardScaler()  # Define scaler here\n",
        "    X_train_scaled = scaler.fit_transform(X_train) #Fit and transform within the same cell\n",
        "    X_test_scaled = scaler.transform(X_test) # Transform the test data\n",
        "\n",
        "\n",
        "    print(\"\\nWith Feature Scaling:\")\n",
        "    accuracy_linear_scaled, conf_matrix_linear_scaled = train_and_evaluate_svm('linear', X_train_scaled, X_test_scaled, y_train, y_test)\n",
        "    accuracy_rbf_scaled, conf_matrix_rbf_scaled = train_and_evaluate_svm('rbf', X_train_scaled, X_test_scaled, y_train, y_test)\n",
        "    print(f\"Linear Kernel Accuracy: {accuracy_linear_scaled}\")\n",
        "    print(f\"RBF Kernel Accuracy: {accuracy_rbf_scaled}\")"
      ],
      "metadata": {
        "id": "xjSGWGSQz0Dp",
        "outputId": "360cc212-04d6-43b6-b32c-76c05777b650",
        "colab": {
          "base_uri": "https://localhost:8080/"
        }
      },
      "execution_count": null,
      "outputs": [
        {
          "output_type": "stream",
          "name": "stdout",
          "text": [
            "/content\n"
          ]
        }
      ]
    }
  ],
  "metadata": {
    "colab": {
      "provenance": [],
      "include_colab_link": true
    },
    "kernelspec": {
      "display_name": "Python 3",
      "name": "python3"
    }
  },
  "nbformat": 4,
  "nbformat_minor": 0
}